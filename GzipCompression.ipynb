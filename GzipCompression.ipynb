{
 "cells": [
  {
   "cell_type": "code",
   "execution_count": 49,
   "metadata": {},
   "outputs": [],
   "source": [
    "import pandas as pd\n",
    "import csv"
   ]
  },
  {
   "cell_type": "code",
   "execution_count": 50,
   "metadata": {},
   "outputs": [],
   "source": [
    "# Load Amazon and Best Buy Electronics dataset (60MB).\n",
    "df = pd.read_csv(r\"C:\\Users\\saulo\\Desktop\\DatafinitiElectronicsProductData.csv\")"
   ]
  },
  {
   "cell_type": "code",
   "execution_count": 51,
   "metadata": {},
   "outputs": [],
   "source": [
    "# Compressing the data using pandas.\n",
    "df.to_csv('compresseddata.csv.gz',\n",
    "      sep=',',\n",
    "      header=True,\n",
    "      index=False,\n",
    "      compression='gzip' ) # Using gzip compression type"
   ]
  },
  {
   "cell_type": "code",
   "execution_count": 52,
   "metadata": {},
   "outputs": [],
   "source": [
    "from pathlib import Path\n",
    "\n",
    "# Finding size of both files.\n",
    "NotCompressed = Path(r'C:\\Users\\saulo\\Desktop\\DatafinitiElectronicsProductData.csv').stat().st_size\n",
    "Compressed = Path(r'C:\\Users\\saulo\\Desktop\\compresseddata.csv.gz').stat().st_size"
   ]
  },
  {
   "cell_type": "code",
   "execution_count": 53,
   "metadata": {},
   "outputs": [],
   "source": [
    "# Transforming size from Bytes to MB.\n",
    "NotCompressedMB = NotCompressed / 1000000\n",
    "CompressedMB = Compressed / 1000000"
   ]
  },
  {
   "cell_type": "code",
   "execution_count": 54,
   "metadata": {},
   "outputs": [
    {
     "name": "stdout",
     "output_type": "stream",
     "text": [
      "Original file is: 62.00 MB.\n",
      "Compressed file is: 1.80 MB.\n",
      "The compressed file is 34.5 times smaller than the original file.\n"
     ]
    }
   ],
   "source": [
    "# Results.\n",
    "print(\"Original file is: %.2f\" % NotCompressedMB, \"MB.\")\n",
    "print(\"Compressed file is: %.2f\" % CompressedMB, \"MB.\")\n",
    "difference = NotCompressedMB/CompressedMB \n",
    "print(\"The compressed file is %.1f\" % difference, \"times smaller than the original file.\")"
   ]
  },
  {
   "cell_type": "code",
   "execution_count": null,
   "metadata": {},
   "outputs": [],
   "source": []
  }
 ],
 "metadata": {
  "kernelspec": {
   "display_name": "Python 3",
   "language": "python",
   "name": "python3"
  },
  "language_info": {
   "codemirror_mode": {
    "name": "ipython",
    "version": 3
   },
   "file_extension": ".py",
   "mimetype": "text/x-python",
   "name": "python",
   "nbconvert_exporter": "python",
   "pygments_lexer": "ipython3",
   "version": "3.7.4"
  }
 },
 "nbformat": 4,
 "nbformat_minor": 4
}
